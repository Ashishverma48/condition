{
 "cells": [
  {
   "cell_type": "code",
   "execution_count": 4,
   "id": "73af18cb",
   "metadata": {},
   "outputs": [
    {
     "name": "stdout",
     "output_type": "stream",
     "text": [
      "70.63\n",
      "1079.63\n"
     ]
    }
   ],
   "source": [
    "sal = 1009\n",
    "year = 7\n",
    "if year>5:\n",
    "    bonus = (sal*year)/100\n",
    "    print(bonus)\n",
    "    t_cost = sal + bonus\n",
    "    print(t_cost)\n",
    "else:\n",
    "    print(\"No bonus\")"
   ]
  },
  {
   "cell_type": "code",
   "execution_count": 10,
   "id": "c4fccc70",
   "metadata": {},
   "outputs": [
    {
     "name": "stdout",
     "output_type": "stream",
     "text": [
      "discount is  :  200.0\n",
      "t cost is :  1800.0\n"
     ]
    }
   ],
   "source": [
    "qnt = 2000\n",
    "if qnt>1000:\n",
    "    dis = (qnt*10)/100\n",
    "    cost = qnt-dis\n",
    "    print(\"discount is  : \",dis)\n",
    "    print(\"t cost is : \",cost)\n",
    "else:\n",
    "    print(\"no discount\")"
   ]
  },
  {
   "cell_type": "code",
   "execution_count": 13,
   "id": "ce3dad05",
   "metadata": {},
   "outputs": [
    {
     "name": "stdout",
     "output_type": "stream",
     "text": [
      "75.0\n",
      "not allow\n"
     ]
    }
   ],
   "source": [
    "class_atten = 450\n",
    "class_held = 600\n",
    "per = (class_atten/class_held)*100\n",
    "print(per)\n",
    "if per>75:\n",
    "    print(\"allow\")\n",
    "else:\n",
    "    print(\"not allow\")"
   ]
  },
  {
   "cell_type": "code",
   "execution_count": null,
   "id": "81822593",
   "metadata": {},
   "outputs": [],
   "source": [
    "atten = int(input(\"enter the class attend : \"))\n",
    "held = int(input(\"enter the lass held : \"))\n",
    "per = atten/held*100\n",
    "print(per)\n",
    "if per>75:\n",
    "    print(\"allow\")\n",
    "else:\n",
    "    print(\"not allowed\")\n",
    "    medical = input(\"enter cause Y or N : \")\n",
    "    if medical == 'y':\n",
    "        print(\"allow to medical \")\n",
    "    else:\n",
    "        print(\"not allow\")\n",
    "    "
   ]
  },
  {
   "cell_type": "code",
   "execution_count": null,
   "id": "8363f17c",
   "metadata": {},
   "outputs": [],
   "source": [
    "day = input(\"enter the nomber of month : \")\n",
    "if day == 1:\n",
    "    print(\"january\")\n",
    "elif day == 2:\n",
    "    print(\"february\")\n",
    "elif day == 3:\n",
    "    print(\"march\")\n",
    "elif day == 4:\n",
    "    print(\"april\")\n",
    "elif day == 5:\n",
    "    print(\"may\")\n",
    "elif day == 6:\n",
    "    print(\"june\")\n",
    "elif day == 7:\n",
    "    print(\"july\")\n",
    "elif day == 8:\n",
    "    print(\"august\")\n",
    "elif day == 9:\n",
    "    print(\"september\")\n",
    "elif day == 10:\n",
    "    print(\"october\")\n",
    "elif day == 11:\n",
    "    print(\"november\")\n",
    "el"
   ]
  },
  {
   "cell_type": "code",
   "execution_count": null,
   "id": "177bf646",
   "metadata": {},
   "outputs": [],
   "source": []
  }
 ],
 "metadata": {
  "kernelspec": {
   "display_name": "Python 3 (ipykernel)",
   "language": "python",
   "name": "python3"
  },
  "language_info": {
   "codemirror_mode": {
    "name": "ipython",
    "version": 3
   },
   "file_extension": ".py",
   "mimetype": "text/x-python",
   "name": "python",
   "nbconvert_exporter": "python",
   "pygments_lexer": "ipython3",
   "version": "3.9.13"
  }
 },
 "nbformat": 4,
 "nbformat_minor": 5
}
